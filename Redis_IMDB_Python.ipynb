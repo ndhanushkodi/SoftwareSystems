{
 "cells": [
  {
   "cell_type": "code",
   "execution_count": 1,
   "metadata": {
    "collapsed": true
   },
   "outputs": [],
   "source": [
    "import redis"
   ]
  },
  {
   "cell_type": "code",
   "execution_count": 2,
   "metadata": {
    "collapsed": false
   },
   "outputs": [
    {
     "data": {
      "text/plain": [
       "[True, 'baz']"
      ]
     },
     "execution_count": 2,
     "metadata": {},
     "output_type": "execute_result"
    }
   ],
   "source": [
    "r = redis.Redis(host='localhost', port=6379, db=0)\n",
    "r.set('bing', 'baz')\n",
    "# Use the pipeline() method to create a pipeline instance\n",
    "pipe = r.pipeline()\n",
    "# The following SET commands are buffered\n",
    "pipe.set('foo', 'bar')\n",
    "pipe.get('bing')\n",
    "# the EXECUTE call sends all buffered commands to the server, returning\n",
    "# a list of responses, one for each command.\n",
    "pipe.execute()"
   ]
  },
  {
   "cell_type": "code",
   "execution_count": 3,
   "metadata": {
    "collapsed": false
   },
   "outputs": [
    {
     "data": {
      "text/plain": [
       "['bar']"
      ]
     },
     "execution_count": 3,
     "metadata": {},
     "output_type": "execute_result"
    }
   ],
   "source": [
    "pipe.get('foo')\n",
    "pipe.execute()"
   ]
  },
  {
   "cell_type": "code",
   "execution_count": 4,
   "metadata": {
    "collapsed": false
   },
   "outputs": [],
   "source": [
    "from imdb import IMDb"
   ]
  },
  {
   "cell_type": "code",
   "execution_count": 6,
   "metadata": {
    "collapsed": false
   },
   "outputs": [
    {
     "name": "stdout",
     "output_type": "stream",
     "text": [
      "[<Person id:0905152[http] name:_Wachowski, Andy_>, <Person id:0905154[http] name:_Wachowski, Lana_>]\n",
      "0000154 Mel Gibson\n",
      "0317112 Mel Gibson\n",
      "2153167 Mel Gibson\n",
      "6709224 Mel Gibson\n",
      "2800055 Mel Gibson\n",
      "0316945 Donal Gibson\n",
      "0317195 Terel Gibson\n",
      "2106809 Raquel Gibson\n",
      "0316878 Cal Gibson\n",
      "7133936 Jamel Gibson\n",
      "3912400 Jamel Gibson\n",
      "0316950 E.L. Gibson\n",
      "6580412 Rachel Gibson\n",
      "0317119 Michael Gibson\n",
      "0316915 Daniel Gibson\n",
      "7454542 L. Gibson\n",
      "1812763 Rachel Gibson\n",
      "4307514 Joel Gibson\n",
      "2798174 Daniel Gibson\n",
      "7681841 Ginnel Gibson\n"
     ]
    }
   ],
   "source": [
    "ia = IMDb()\n",
    "\n",
    "the_matrix = ia.get_movie('0133093')\n",
    "print the_matrix['director']\n",
    "\n",
    "for person in ia.search_person('Mel Gibson'):\n",
    "        print person.personID, person['name']\n",
    "        pipe.set(person.personID, person['name'])"
   ]
  },
  {
   "cell_type": "code",
   "execution_count": 7,
   "metadata": {
    "collapsed": false
   },
   "outputs": [
    {
     "data": {
      "text/plain": [
       "[True,\n",
       " True,\n",
       " True,\n",
       " True,\n",
       " True,\n",
       " True,\n",
       " True,\n",
       " True,\n",
       " True,\n",
       " True,\n",
       " True,\n",
       " True,\n",
       " True,\n",
       " True,\n",
       " True,\n",
       " True,\n",
       " True,\n",
       " True,\n",
       " True,\n",
       " True,\n",
       " 'Ginnel Gibson']"
      ]
     },
     "execution_count": 7,
     "metadata": {},
     "output_type": "execute_result"
    }
   ],
   "source": [
    "pipe.get(\"7681841\")\n",
    "pipe.execute()"
   ]
  },
  {
   "cell_type": "code",
   "execution_count": 10,
   "metadata": {
    "collapsed": false
   },
   "outputs": [
    {
     "data": {
      "text/plain": [
       "['2798174',\n",
       " 'foo',\n",
       " '2800055',\n",
       " '0000154',\n",
       " '0317119',\n",
       " '6709224',\n",
       " '0317112',\n",
       " '6580412',\n",
       " 'mykey',\n",
       " '7454542',\n",
       " '0317195',\n",
       " '2153167',\n",
       " '4307514',\n",
       " '0316945',\n",
       " '7133936',\n",
       " '2106809',\n",
       " '1812763',\n",
       " '0316878',\n",
       " '0316950',\n",
       " 'bing',\n",
       " '7681841',\n",
       " '3912400',\n",
       " '0316915']"
      ]
     },
     "execution_count": 10,
     "metadata": {},
     "output_type": "execute_result"
    }
   ],
   "source": [
    "r.keys()"
   ]
  },
  {
   "cell_type": "code",
   "execution_count": 18,
   "metadata": {
    "collapsed": false
   },
   "outputs": [
    {
     "name": "stdout",
     "output_type": "stream",
     "text": [
      "The Brothers Grimsby\n",
      "Zoolander 2\n",
      "La reina de España\n",
      "Escobar ()\n",
      "Ma ma\n",
      "The Counselor\n",
      "I'm So Excited!\n",
      "Twice Born\n",
      "To Rome with Love\n",
      "Pirates of the Caribbean: On Stranger Tides\n",
      "Sex and the City 2\n",
      "Nine\n",
      "G-Force\n",
      "Broken Embraces\n",
      "A Matador's Mistress\n",
      "Vicky Cristina Barcelona\n",
      "Elegy\n",
      "The Good Night\n",
      "Volver\n",
      "Bandidas\n",
      "Chromophobia\n",
      "Sahara\n",
      "Head in the Clouds\n",
      "Noel\n",
      "Don't Move\n",
      "Gothika\n",
      "Fanfan\n",
      "Masked and Anonymous\n",
      "Waking Up in Reno\n",
      "Vanilla Sky\n",
      "Don't Tempt Me\n",
      "Captain Corelli's Mandolin\n",
      "Blow\n",
      "All the Pretty Horses\n",
      "Woman on Top\n",
      "Volavérunt\n",
      "All About My Mother\n",
      "The Hi-Lo Country\n",
      "The Girl of Your Dreams\n",
      "Talk of Angels\n",
      "Twice Upon a Yesterday\n",
      "Don Juan\n",
      "Open Your Eyes\n",
      "Live Flesh\n",
      "A Corner of Paradise\n",
      "Love Can Seriously Damage Your Health\n",
      "Not Love, Just Frenzy\n",
      "La Celestina\n",
      "Brujas\n",
      "The Butterfly Effect\n",
      "Entre rojas\n",
      "Todo es mentira\n",
      "Alegre ma non troppo\n",
      "Per amore, solo per amore\n",
      "The Rebel\n",
      "The Greek Labyrinth\n",
      "Belle Epoque\n",
      "Jamón, Jamón\n",
      "L'Agent by Agent Provocateur\n",
      "Mecano - Los vídeos\n",
      "The Cannibalistic Councillor\n",
      "Sesame Street\n",
      "Framed\n",
      "Série rose\n"
     ]
    }
   ],
   "source": [
    "full_person = ia.get_person('0004851', info=[\"filmography\"])\n",
    "full_person.keys()\n",
    "for i in range(len(full_person[\"actress\"])):\n",
    "    print full_person[\"actress\"][i]['title']\n",
    "    "
   ]
  },
  {
   "cell_type": "code",
   "execution_count": null,
   "metadata": {
    "collapsed": true
   },
   "outputs": [],
   "source": [
    "#r.flushall()"
   ]
  }
 ],
 "metadata": {
  "kernelspec": {
   "display_name": "Python 2",
   "language": "python",
   "name": "python2"
  },
  "language_info": {
   "codemirror_mode": {
    "name": "ipython",
    "version": 2
   },
   "file_extension": ".py",
   "mimetype": "text/x-python",
   "name": "python",
   "nbconvert_exporter": "python",
   "pygments_lexer": "ipython2",
   "version": "2.7.9"
  }
 },
 "nbformat": 4,
 "nbformat_minor": 0
}
